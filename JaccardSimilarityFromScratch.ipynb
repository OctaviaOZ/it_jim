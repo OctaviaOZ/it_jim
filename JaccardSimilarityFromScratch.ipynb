{
  "nbformat": 4,
  "nbformat_minor": 0,
  "metadata": {
    "colab": {
      "name": "JaccardSimilarityFromScratch.ipynb",
      "provenance": [],
      "collapsed_sections": []
    },
    "kernelspec": {
      "name": "python3",
      "display_name": "Python 3"
    },
    "language_info": {
      "name": "python"
    }
  },
  "cells": [
    {
      "cell_type": "code",
      "metadata": {
        "id": "ockhS2k8i2_M"
      },
      "source": [
        "import numpy as np\n",
        "import pandas as pd"
      ],
      "execution_count": null,
      "outputs": []
    },
    {
      "cell_type": "code",
      "metadata": {
        "id": "oCZHGA2Gj3wS"
      },
      "source": [
        "#df = pd.read_csv('cities.csv', quotechar='\"', skipinitialspace=True)\n",
        "df = pd.read_csv('https://people.sc.fsu.edu/~jburkardt/data/csv/cities.csv', quotechar='\"', skipinitialspace=True)"
      ],
      "execution_count": null,
      "outputs": []
    },
    {
      "cell_type": "markdown",
      "metadata": {
        "id": "PTU7qsvaur4R"
      },
      "source": [
        "df.columns = df.columns.str.lower().str.replace(' ', '_') # A\n",
        " \n",
        "string_columns = list(df.dtypes[df.dtypes == 'object'].index) # B\n",
        " \n",
        "for col in string_columns:\n",
        "    df[col] = df[col].str.lower().str.replace(' ', '_') # C"
      ]
    },
    {
      "cell_type": "code",
      "metadata": {
        "id": "rzIDJqJjoLlB",
        "colab": {
          "base_uri": "https://localhost:8080/",
          "height": 345
        },
        "outputId": "371047f8-1291-456d-c295-ce1119fb7bc0"
      },
      "source": [
        "df.head(10)"
      ],
      "execution_count": null,
      "outputs": [
        {
          "output_type": "execute_result",
          "data": {
            "text/html": [
              "<div>\n",
              "<style scoped>\n",
              "    .dataframe tbody tr th:only-of-type {\n",
              "        vertical-align: middle;\n",
              "    }\n",
              "\n",
              "    .dataframe tbody tr th {\n",
              "        vertical-align: top;\n",
              "    }\n",
              "\n",
              "    .dataframe thead th {\n",
              "        text-align: right;\n",
              "    }\n",
              "</style>\n",
              "<table border=\"1\" class=\"dataframe\">\n",
              "  <thead>\n",
              "    <tr style=\"text-align: right;\">\n",
              "      <th></th>\n",
              "      <th>LatD</th>\n",
              "      <th>LatM</th>\n",
              "      <th>LatS</th>\n",
              "      <th>NS</th>\n",
              "      <th>LonD</th>\n",
              "      <th>LonM</th>\n",
              "      <th>LonS</th>\n",
              "      <th>EW</th>\n",
              "      <th>City</th>\n",
              "      <th>State</th>\n",
              "    </tr>\n",
              "  </thead>\n",
              "  <tbody>\n",
              "    <tr>\n",
              "      <th>0</th>\n",
              "      <td>41</td>\n",
              "      <td>5</td>\n",
              "      <td>59</td>\n",
              "      <td>N</td>\n",
              "      <td>80</td>\n",
              "      <td>39</td>\n",
              "      <td>0</td>\n",
              "      <td>W</td>\n",
              "      <td>Youngstown</td>\n",
              "      <td>OH</td>\n",
              "    </tr>\n",
              "    <tr>\n",
              "      <th>1</th>\n",
              "      <td>42</td>\n",
              "      <td>52</td>\n",
              "      <td>48</td>\n",
              "      <td>N</td>\n",
              "      <td>97</td>\n",
              "      <td>23</td>\n",
              "      <td>23</td>\n",
              "      <td>W</td>\n",
              "      <td>Yankton</td>\n",
              "      <td>SD</td>\n",
              "    </tr>\n",
              "    <tr>\n",
              "      <th>2</th>\n",
              "      <td>46</td>\n",
              "      <td>35</td>\n",
              "      <td>59</td>\n",
              "      <td>N</td>\n",
              "      <td>120</td>\n",
              "      <td>30</td>\n",
              "      <td>36</td>\n",
              "      <td>W</td>\n",
              "      <td>Yakima</td>\n",
              "      <td>WA</td>\n",
              "    </tr>\n",
              "    <tr>\n",
              "      <th>3</th>\n",
              "      <td>42</td>\n",
              "      <td>16</td>\n",
              "      <td>12</td>\n",
              "      <td>N</td>\n",
              "      <td>71</td>\n",
              "      <td>48</td>\n",
              "      <td>0</td>\n",
              "      <td>W</td>\n",
              "      <td>Worcester</td>\n",
              "      <td>MA</td>\n",
              "    </tr>\n",
              "    <tr>\n",
              "      <th>4</th>\n",
              "      <td>43</td>\n",
              "      <td>37</td>\n",
              "      <td>48</td>\n",
              "      <td>N</td>\n",
              "      <td>89</td>\n",
              "      <td>46</td>\n",
              "      <td>11</td>\n",
              "      <td>W</td>\n",
              "      <td>Wisconsin Dells</td>\n",
              "      <td>WI</td>\n",
              "    </tr>\n",
              "    <tr>\n",
              "      <th>5</th>\n",
              "      <td>36</td>\n",
              "      <td>5</td>\n",
              "      <td>59</td>\n",
              "      <td>N</td>\n",
              "      <td>80</td>\n",
              "      <td>15</td>\n",
              "      <td>0</td>\n",
              "      <td>W</td>\n",
              "      <td>Winston-Salem</td>\n",
              "      <td>NC</td>\n",
              "    </tr>\n",
              "    <tr>\n",
              "      <th>6</th>\n",
              "      <td>49</td>\n",
              "      <td>52</td>\n",
              "      <td>48</td>\n",
              "      <td>N</td>\n",
              "      <td>97</td>\n",
              "      <td>9</td>\n",
              "      <td>0</td>\n",
              "      <td>W</td>\n",
              "      <td>Winnipeg</td>\n",
              "      <td>MB</td>\n",
              "    </tr>\n",
              "    <tr>\n",
              "      <th>7</th>\n",
              "      <td>39</td>\n",
              "      <td>11</td>\n",
              "      <td>23</td>\n",
              "      <td>N</td>\n",
              "      <td>78</td>\n",
              "      <td>9</td>\n",
              "      <td>36</td>\n",
              "      <td>W</td>\n",
              "      <td>Winchester</td>\n",
              "      <td>VA</td>\n",
              "    </tr>\n",
              "    <tr>\n",
              "      <th>8</th>\n",
              "      <td>34</td>\n",
              "      <td>14</td>\n",
              "      <td>24</td>\n",
              "      <td>N</td>\n",
              "      <td>77</td>\n",
              "      <td>55</td>\n",
              "      <td>11</td>\n",
              "      <td>W</td>\n",
              "      <td>Wilmington</td>\n",
              "      <td>NC</td>\n",
              "    </tr>\n",
              "    <tr>\n",
              "      <th>9</th>\n",
              "      <td>39</td>\n",
              "      <td>45</td>\n",
              "      <td>0</td>\n",
              "      <td>N</td>\n",
              "      <td>75</td>\n",
              "      <td>33</td>\n",
              "      <td>0</td>\n",
              "      <td>W</td>\n",
              "      <td>Wilmington</td>\n",
              "      <td>DE</td>\n",
              "    </tr>\n",
              "  </tbody>\n",
              "</table>\n",
              "</div>"
            ],
            "text/plain": [
              "   LatD  LatM  LatS NS  LonD  LonM  LonS EW             City State\n",
              "0    41     5    59  N    80    39     0  W       Youngstown    OH\n",
              "1    42    52    48  N    97    23    23  W          Yankton    SD\n",
              "2    46    35    59  N   120    30    36  W           Yakima    WA\n",
              "3    42    16    12  N    71    48     0  W        Worcester    MA\n",
              "4    43    37    48  N    89    46    11  W  Wisconsin Dells    WI\n",
              "5    36     5    59  N    80    15     0  W    Winston-Salem    NC\n",
              "6    49    52    48  N    97     9     0  W         Winnipeg    MB\n",
              "7    39    11    23  N    78     9    36  W       Winchester    VA\n",
              "8    34    14    24  N    77    55    11  W       Wilmington    NC\n",
              "9    39    45     0  N    75    33     0  W       Wilmington    DE"
            ]
          },
          "metadata": {
            "tags": []
          },
          "execution_count": 4
        }
      ]
    },
    {
      "cell_type": "code",
      "metadata": {
        "colab": {
          "base_uri": "https://localhost:8080/"
        },
        "id": "WahoQzVZowx1",
        "outputId": "67d20c2c-f3ef-46c4-ab7d-9e44c66e1c52"
      },
      "source": [
        "df.info()"
      ],
      "execution_count": null,
      "outputs": [
        {
          "output_type": "stream",
          "text": [
            "<class 'pandas.core.frame.DataFrame'>\n",
            "RangeIndex: 128 entries, 0 to 127\n",
            "Data columns (total 10 columns):\n",
            " #   Column  Non-Null Count  Dtype \n",
            "---  ------  --------------  ----- \n",
            " 0   LatD    128 non-null    int64 \n",
            " 1   LatM    128 non-null    int64 \n",
            " 2   LatS    128 non-null    int64 \n",
            " 3   NS      128 non-null    object\n",
            " 4   LonD    128 non-null    int64 \n",
            " 5   LonM    128 non-null    int64 \n",
            " 6   LonS    128 non-null    int64 \n",
            " 7   EW      128 non-null    object\n",
            " 8   City    128 non-null    object\n",
            " 9   State   128 non-null    object\n",
            "dtypes: int64(6), object(4)\n",
            "memory usage: 10.1+ KB\n"
          ],
          "name": "stdout"
        }
      ]
    },
    {
      "cell_type": "markdown",
      "metadata": {
        "id": "uA5ImQgqc_QE"
      },
      "source": [
        "get one example to try"
      ]
    },
    {
      "cell_type": "code",
      "metadata": {
        "id": "qsjoYr3co7WP"
      },
      "source": [
        "x = set(df['City'].loc[0]) \n",
        "x= set(''.join(x))\n",
        "y = set(df['City'].loc[1])\n",
        "y = set(''.join(y))"
      ],
      "execution_count": null,
      "outputs": []
    },
    {
      "cell_type": "code",
      "metadata": {
        "colab": {
          "base_uri": "https://localhost:8080/"
        },
        "id": "34SmPIotJO8Q",
        "outputId": "6587c028-aeb4-4c6b-ec1f-5db9f2cedbdf"
      },
      "source": [
        "x"
      ],
      "execution_count": null,
      "outputs": [
        {
          "output_type": "execute_result",
          "data": {
            "text/plain": [
              "{'Y', 'g', 'n', 'o', 's', 't', 'u', 'w'}"
            ]
          },
          "metadata": {
            "tags": []
          },
          "execution_count": 7
        }
      ]
    },
    {
      "cell_type": "code",
      "metadata": {
        "colab": {
          "base_uri": "https://localhost:8080/"
        },
        "id": "vtEpTDMFJS74",
        "outputId": "2996643b-98ee-4f6d-8511-d5f6d0b8160c"
      },
      "source": [
        "y"
      ],
      "execution_count": null,
      "outputs": [
        {
          "output_type": "execute_result",
          "data": {
            "text/plain": [
              "{'Y', 'a', 'k', 'n', 'o', 't'}"
            ]
          },
          "metadata": {
            "tags": []
          },
          "execution_count": 8
        }
      ]
    },
    {
      "cell_type": "markdown",
      "metadata": {
        "id": "kEO-WMbxkFLp"
      },
      "source": [
        "Jaccard Similarity = (number of observations in both sets) / (number in either set)"
      ]
    },
    {
      "cell_type": "code",
      "metadata": {
        "id": "ALU1N8UZoj1n"
      },
      "source": [
        "intersection_cardinality = len(set(x).intersection(set(y)))\n",
        "union_cardinality = len(set(x).union(set(y)))\n",
        "sim = intersection_cardinality / float(union_cardinality)"
      ],
      "execution_count": null,
      "outputs": []
    },
    {
      "cell_type": "code",
      "metadata": {
        "colab": {
          "base_uri": "https://localhost:8080/"
        },
        "id": "rxWBcFdup0RK",
        "outputId": "134f729a-1062-44a8-9720-498002a599ca"
      },
      "source": [
        "intersection_cardinality, union_cardinality, sim"
      ],
      "execution_count": null,
      "outputs": [
        {
          "output_type": "execute_result",
          "data": {
            "text/plain": [
              "(4, 10, 0.4)"
            ]
          },
          "metadata": {
            "tags": []
          },
          "execution_count": 10
        }
      ]
    },
    {
      "cell_type": "markdown",
      "metadata": {
        "id": "Wxqb3q0IdGN0"
      },
      "source": [
        "getting similarity for all of cities"
      ]
    },
    {
      "cell_type": "code",
      "metadata": {
        "id": "wLhDvSNT4MMr"
      },
      "source": [
        "df[\"City\"] = df[\"City\"].str.lower()"
      ],
      "execution_count": null,
      "outputs": []
    },
    {
      "cell_type": "code",
      "metadata": {
        "id": "kfUFQfEgK4Dp"
      },
      "source": [
        "matrix_city = df[\"City\"].str.split(\"\", expand=True).fillna('')"
      ],
      "execution_count": null,
      "outputs": []
    },
    {
      "cell_type": "code",
      "metadata": {
        "colab": {
          "base_uri": "https://localhost:8080/",
          "height": 404
        },
        "id": "zl-IU1vUPRmA",
        "outputId": "edc097ee-58dd-4b49-c6ff-25d43e844c89"
      },
      "source": [
        "matrix_city"
      ],
      "execution_count": null,
      "outputs": [
        {
          "output_type": "execute_result",
          "data": {
            "text/html": [
              "<div>\n",
              "<style scoped>\n",
              "    .dataframe tbody tr th:only-of-type {\n",
              "        vertical-align: middle;\n",
              "    }\n",
              "\n",
              "    .dataframe tbody tr th {\n",
              "        vertical-align: top;\n",
              "    }\n",
              "\n",
              "    .dataframe thead th {\n",
              "        text-align: right;\n",
              "    }\n",
              "</style>\n",
              "<table border=\"1\" class=\"dataframe\">\n",
              "  <thead>\n",
              "    <tr style=\"text-align: right;\">\n",
              "      <th></th>\n",
              "      <th>0</th>\n",
              "      <th>1</th>\n",
              "      <th>2</th>\n",
              "      <th>3</th>\n",
              "      <th>4</th>\n",
              "      <th>5</th>\n",
              "      <th>6</th>\n",
              "      <th>7</th>\n",
              "      <th>8</th>\n",
              "      <th>9</th>\n",
              "      <th>10</th>\n",
              "      <th>11</th>\n",
              "      <th>12</th>\n",
              "      <th>13</th>\n",
              "      <th>14</th>\n",
              "      <th>15</th>\n",
              "      <th>16</th>\n",
              "      <th>17</th>\n",
              "      <th>18</th>\n",
              "      <th>19</th>\n",
              "    </tr>\n",
              "  </thead>\n",
              "  <tbody>\n",
              "    <tr>\n",
              "      <th>0</th>\n",
              "      <td></td>\n",
              "      <td>y</td>\n",
              "      <td>o</td>\n",
              "      <td>u</td>\n",
              "      <td>n</td>\n",
              "      <td>g</td>\n",
              "      <td>s</td>\n",
              "      <td>t</td>\n",
              "      <td>o</td>\n",
              "      <td>w</td>\n",
              "      <td>n</td>\n",
              "      <td></td>\n",
              "      <td></td>\n",
              "      <td></td>\n",
              "      <td></td>\n",
              "      <td></td>\n",
              "      <td></td>\n",
              "      <td></td>\n",
              "      <td></td>\n",
              "      <td></td>\n",
              "    </tr>\n",
              "    <tr>\n",
              "      <th>1</th>\n",
              "      <td></td>\n",
              "      <td>y</td>\n",
              "      <td>a</td>\n",
              "      <td>n</td>\n",
              "      <td>k</td>\n",
              "      <td>t</td>\n",
              "      <td>o</td>\n",
              "      <td>n</td>\n",
              "      <td></td>\n",
              "      <td></td>\n",
              "      <td></td>\n",
              "      <td></td>\n",
              "      <td></td>\n",
              "      <td></td>\n",
              "      <td></td>\n",
              "      <td></td>\n",
              "      <td></td>\n",
              "      <td></td>\n",
              "      <td></td>\n",
              "      <td></td>\n",
              "    </tr>\n",
              "    <tr>\n",
              "      <th>2</th>\n",
              "      <td></td>\n",
              "      <td>y</td>\n",
              "      <td>a</td>\n",
              "      <td>k</td>\n",
              "      <td>i</td>\n",
              "      <td>m</td>\n",
              "      <td>a</td>\n",
              "      <td></td>\n",
              "      <td></td>\n",
              "      <td></td>\n",
              "      <td></td>\n",
              "      <td></td>\n",
              "      <td></td>\n",
              "      <td></td>\n",
              "      <td></td>\n",
              "      <td></td>\n",
              "      <td></td>\n",
              "      <td></td>\n",
              "      <td></td>\n",
              "      <td></td>\n",
              "    </tr>\n",
              "    <tr>\n",
              "      <th>3</th>\n",
              "      <td></td>\n",
              "      <td>w</td>\n",
              "      <td>o</td>\n",
              "      <td>r</td>\n",
              "      <td>c</td>\n",
              "      <td>e</td>\n",
              "      <td>s</td>\n",
              "      <td>t</td>\n",
              "      <td>e</td>\n",
              "      <td>r</td>\n",
              "      <td></td>\n",
              "      <td></td>\n",
              "      <td></td>\n",
              "      <td></td>\n",
              "      <td></td>\n",
              "      <td></td>\n",
              "      <td></td>\n",
              "      <td></td>\n",
              "      <td></td>\n",
              "      <td></td>\n",
              "    </tr>\n",
              "    <tr>\n",
              "      <th>4</th>\n",
              "      <td></td>\n",
              "      <td>w</td>\n",
              "      <td>i</td>\n",
              "      <td>s</td>\n",
              "      <td>c</td>\n",
              "      <td>o</td>\n",
              "      <td>n</td>\n",
              "      <td>s</td>\n",
              "      <td>i</td>\n",
              "      <td>n</td>\n",
              "      <td></td>\n",
              "      <td>d</td>\n",
              "      <td>e</td>\n",
              "      <td>l</td>\n",
              "      <td>l</td>\n",
              "      <td>s</td>\n",
              "      <td></td>\n",
              "      <td></td>\n",
              "      <td></td>\n",
              "      <td></td>\n",
              "    </tr>\n",
              "    <tr>\n",
              "      <th>...</th>\n",
              "      <td>...</td>\n",
              "      <td>...</td>\n",
              "      <td>...</td>\n",
              "      <td>...</td>\n",
              "      <td>...</td>\n",
              "      <td>...</td>\n",
              "      <td>...</td>\n",
              "      <td>...</td>\n",
              "      <td>...</td>\n",
              "      <td>...</td>\n",
              "      <td>...</td>\n",
              "      <td>...</td>\n",
              "      <td>...</td>\n",
              "      <td>...</td>\n",
              "      <td>...</td>\n",
              "      <td>...</td>\n",
              "      <td>...</td>\n",
              "      <td>...</td>\n",
              "      <td>...</td>\n",
              "      <td>...</td>\n",
              "    </tr>\n",
              "    <tr>\n",
              "      <th>123</th>\n",
              "      <td></td>\n",
              "      <td>r</td>\n",
              "      <td>e</td>\n",
              "      <td>n</td>\n",
              "      <td>o</td>\n",
              "      <td></td>\n",
              "      <td></td>\n",
              "      <td></td>\n",
              "      <td></td>\n",
              "      <td></td>\n",
              "      <td></td>\n",
              "      <td></td>\n",
              "      <td></td>\n",
              "      <td></td>\n",
              "      <td></td>\n",
              "      <td></td>\n",
              "      <td></td>\n",
              "      <td></td>\n",
              "      <td></td>\n",
              "      <td></td>\n",
              "    </tr>\n",
              "    <tr>\n",
              "      <th>124</th>\n",
              "      <td></td>\n",
              "      <td>r</td>\n",
              "      <td>e</td>\n",
              "      <td>g</td>\n",
              "      <td>i</td>\n",
              "      <td>n</td>\n",
              "      <td>a</td>\n",
              "      <td></td>\n",
              "      <td></td>\n",
              "      <td></td>\n",
              "      <td></td>\n",
              "      <td></td>\n",
              "      <td></td>\n",
              "      <td></td>\n",
              "      <td></td>\n",
              "      <td></td>\n",
              "      <td></td>\n",
              "      <td></td>\n",
              "      <td></td>\n",
              "      <td></td>\n",
              "    </tr>\n",
              "    <tr>\n",
              "      <th>125</th>\n",
              "      <td></td>\n",
              "      <td>r</td>\n",
              "      <td>e</td>\n",
              "      <td>d</td>\n",
              "      <td></td>\n",
              "      <td>b</td>\n",
              "      <td>l</td>\n",
              "      <td>u</td>\n",
              "      <td>f</td>\n",
              "      <td>f</td>\n",
              "      <td></td>\n",
              "      <td></td>\n",
              "      <td></td>\n",
              "      <td></td>\n",
              "      <td></td>\n",
              "      <td></td>\n",
              "      <td></td>\n",
              "      <td></td>\n",
              "      <td></td>\n",
              "      <td></td>\n",
              "    </tr>\n",
              "    <tr>\n",
              "      <th>126</th>\n",
              "      <td></td>\n",
              "      <td>r</td>\n",
              "      <td>e</td>\n",
              "      <td>a</td>\n",
              "      <td>d</td>\n",
              "      <td>i</td>\n",
              "      <td>n</td>\n",
              "      <td>g</td>\n",
              "      <td></td>\n",
              "      <td></td>\n",
              "      <td></td>\n",
              "      <td></td>\n",
              "      <td></td>\n",
              "      <td></td>\n",
              "      <td></td>\n",
              "      <td></td>\n",
              "      <td></td>\n",
              "      <td></td>\n",
              "      <td></td>\n",
              "      <td></td>\n",
              "    </tr>\n",
              "    <tr>\n",
              "      <th>127</th>\n",
              "      <td></td>\n",
              "      <td>r</td>\n",
              "      <td>a</td>\n",
              "      <td>v</td>\n",
              "      <td>e</td>\n",
              "      <td>n</td>\n",
              "      <td>n</td>\n",
              "      <td>a</td>\n",
              "      <td></td>\n",
              "      <td></td>\n",
              "      <td></td>\n",
              "      <td></td>\n",
              "      <td></td>\n",
              "      <td></td>\n",
              "      <td></td>\n",
              "      <td></td>\n",
              "      <td></td>\n",
              "      <td></td>\n",
              "      <td></td>\n",
              "      <td></td>\n",
              "    </tr>\n",
              "  </tbody>\n",
              "</table>\n",
              "<p>128 rows × 20 columns</p>\n",
              "</div>"
            ],
            "text/plain": [
              "    0  1  2  3  4  5  6  7  8  9  10 11 12 13 14 15 16 17 18 19\n",
              "0       y  o  u  n  g  s  t  o  w  n                           \n",
              "1       y  a  n  k  t  o  n                                    \n",
              "2       y  a  k  i  m  a                                       \n",
              "3       w  o  r  c  e  s  t  e  r                              \n",
              "4       w  i  s  c  o  n  s  i  n     d  e  l  l  s            \n",
              "..  .. .. .. .. .. .. .. .. .. .. .. .. .. .. .. .. .. .. .. ..\n",
              "123     r  e  n  o                                             \n",
              "124     r  e  g  i  n  a                                       \n",
              "125     r  e  d     b  l  u  f  f                              \n",
              "126     r  e  a  d  i  n  g                                    \n",
              "127     r  a  v  e  n  n  a                                    \n",
              "\n",
              "[128 rows x 20 columns]"
            ]
          },
          "metadata": {
            "tags": []
          },
          "execution_count": 13
        }
      ]
    },
    {
      "cell_type": "code",
      "metadata": {
        "id": "sTcUo04O6zEb"
      },
      "source": [
        "# Use those indicees to slice out respective columns \n",
        "slice1 = matrix_city.loc[:126]\n",
        "slice2 = matrix_city.loc[1:]"
      ],
      "execution_count": null,
      "outputs": []
    },
    {
      "cell_type": "code",
      "metadata": {
        "id": "D5mR9QVlOyRD"
      },
      "source": [
        "seq1 = slice1.apply(set, axis=1).reset_index(drop=True)\n",
        "seq2 = slice2.apply(set, axis=1).reset_index(drop=True)"
      ],
      "execution_count": null,
      "outputs": []
    },
    {
      "cell_type": "code",
      "metadata": {
        "id": "EAKn6Yi2UrCO"
      },
      "source": [
        "seqs = pd.concat([seq1,seq2], axis=1)"
      ],
      "execution_count": null,
      "outputs": []
    },
    {
      "cell_type": "code",
      "metadata": {
        "colab": {
          "base_uri": "https://localhost:8080/"
        },
        "id": "A69ETmRoZW1f",
        "outputId": "f4c7e42c-d516-408f-e97a-a32d58e98944"
      },
      "source": [
        "seqs.shape"
      ],
      "execution_count": null,
      "outputs": [
        {
          "output_type": "execute_result",
          "data": {
            "text/plain": [
              "(127, 2)"
            ]
          },
          "metadata": {
            "tags": []
          },
          "execution_count": 17
        }
      ]
    },
    {
      "cell_type": "code",
      "metadata": {
        "colab": {
          "base_uri": "https://localhost:8080/",
          "height": 404
        },
        "id": "q6HAkxyCaER0",
        "outputId": "65c76728-6a9c-40ea-8426-301304fdac97"
      },
      "source": [
        "seqs"
      ],
      "execution_count": null,
      "outputs": [
        {
          "output_type": "execute_result",
          "data": {
            "text/html": [
              "<div>\n",
              "<style scoped>\n",
              "    .dataframe tbody tr th:only-of-type {\n",
              "        vertical-align: middle;\n",
              "    }\n",
              "\n",
              "    .dataframe tbody tr th {\n",
              "        vertical-align: top;\n",
              "    }\n",
              "\n",
              "    .dataframe thead th {\n",
              "        text-align: right;\n",
              "    }\n",
              "</style>\n",
              "<table border=\"1\" class=\"dataframe\">\n",
              "  <thead>\n",
              "    <tr style=\"text-align: right;\">\n",
              "      <th></th>\n",
              "      <th>0</th>\n",
              "      <th>1</th>\n",
              "    </tr>\n",
              "  </thead>\n",
              "  <tbody>\n",
              "    <tr>\n",
              "      <th>0</th>\n",
              "      <td>{, s, y, u, w, n, t, g, o}</td>\n",
              "      <td>{, a, k, y, n, t, o}</td>\n",
              "    </tr>\n",
              "    <tr>\n",
              "      <th>1</th>\n",
              "      <td>{, a, k, y, n, t, o}</td>\n",
              "      <td>{, a, k, y, i, m}</td>\n",
              "    </tr>\n",
              "    <tr>\n",
              "      <th>2</th>\n",
              "      <td>{, a, k, y, i, m}</td>\n",
              "      <td>{, c, e, s, r, w, t, o}</td>\n",
              "    </tr>\n",
              "    <tr>\n",
              "      <th>3</th>\n",
              "      <td>{, c, e, s, r, w, t, o}</td>\n",
              "      <td>{, c, s, e, w, i, n,  , l, d, o}</td>\n",
              "    </tr>\n",
              "    <tr>\n",
              "      <th>4</th>\n",
              "      <td>{, c, s, e, w, i, n,  , l, d, o}</td>\n",
              "      <td>{, s, a, e, w, i, n, -, l, t, m, o}</td>\n",
              "    </tr>\n",
              "    <tr>\n",
              "      <th>...</th>\n",
              "      <td>...</td>\n",
              "      <td>...</td>\n",
              "    </tr>\n",
              "    <tr>\n",
              "      <th>122</th>\n",
              "      <td>{, h, e, a, r, i, n, l, d}</td>\n",
              "      <td>{, e, r, n, o}</td>\n",
              "    </tr>\n",
              "    <tr>\n",
              "      <th>123</th>\n",
              "      <td>{, e, r, n, o}</td>\n",
              "      <td>{, e, a, r, i, n, g}</td>\n",
              "    </tr>\n",
              "    <tr>\n",
              "      <th>124</th>\n",
              "      <td>{, e, a, r, i, n, g}</td>\n",
              "      <td>{, e, r, u,  , l, d, b, f}</td>\n",
              "    </tr>\n",
              "    <tr>\n",
              "      <th>125</th>\n",
              "      <td>{, e, r, u,  , l, d, b, f}</td>\n",
              "      <td>{, e, a, r, i, n, d, g}</td>\n",
              "    </tr>\n",
              "    <tr>\n",
              "      <th>126</th>\n",
              "      <td>{, e, a, r, i, n, d, g}</td>\n",
              "      <td>{, v, a, e, r, n}</td>\n",
              "    </tr>\n",
              "  </tbody>\n",
              "</table>\n",
              "<p>127 rows × 2 columns</p>\n",
              "</div>"
            ],
            "text/plain": [
              "                                    0                                    1\n",
              "0          {, s, y, u, w, n, t, g, o}                 {, a, k, y, n, t, o}\n",
              "1                {, a, k, y, n, t, o}                    {, a, k, y, i, m}\n",
              "2                   {, a, k, y, i, m}              {, c, e, s, r, w, t, o}\n",
              "3             {, c, e, s, r, w, t, o}     {, c, s, e, w, i, n,  , l, d, o}\n",
              "4    {, c, s, e, w, i, n,  , l, d, o}  {, s, a, e, w, i, n, -, l, t, m, o}\n",
              "..                                ...                                  ...\n",
              "122        {, h, e, a, r, i, n, l, d}                       {, e, r, n, o}\n",
              "123                    {, e, r, n, o}                 {, e, a, r, i, n, g}\n",
              "124              {, e, a, r, i, n, g}           {, e, r, u,  , l, d, b, f}\n",
              "125        {, e, r, u,  , l, d, b, f}              {, e, a, r, i, n, d, g}\n",
              "126           {, e, a, r, i, n, d, g}                    {, v, a, e, r, n}\n",
              "\n",
              "[127 rows x 2 columns]"
            ]
          },
          "metadata": {
            "tags": []
          },
          "execution_count": 18
        }
      ]
    },
    {
      "cell_type": "code",
      "metadata": {
        "id": "Z-WOSZz_eTXa"
      },
      "source": [
        "#intersection\n",
        "intersection_seq = seqs[0].values & seqs[1].values\n",
        "union_seq = seqs[0].values | seqs[1].values"
      ],
      "execution_count": null,
      "outputs": []
    },
    {
      "cell_type": "code",
      "metadata": {
        "colab": {
          "base_uri": "https://localhost:8080/"
        },
        "id": "rY1nQQx8jj3p",
        "outputId": "81cfac30-70cb-4083-8de7-b0630da0852e"
      },
      "source": [
        "intersection_seq[:5]"
      ],
      "execution_count": null,
      "outputs": [
        {
          "output_type": "execute_result",
          "data": {
            "text/plain": [
              "array([{'', 'y', 'n', 't', 'o'}, {'', 'a', 'k', 'y'}, {''},\n",
              "       {'', 'c', 'e', 's', 'w', 'o'},\n",
              "       {'', 's', 'e', 'w', 'i', 'n', 'l', 'o'}], dtype=object)"
            ]
          },
          "metadata": {
            "tags": []
          },
          "execution_count": 20
        }
      ]
    },
    {
      "cell_type": "code",
      "metadata": {
        "colab": {
          "base_uri": "https://localhost:8080/"
        },
        "id": "QUw-zvv5pIhO",
        "outputId": "19b6ccf2-72b1-499b-d3b4-a538cfbefd47"
      },
      "source": [
        "union_seq[:5]"
      ],
      "execution_count": null,
      "outputs": [
        {
          "output_type": "execute_result",
          "data": {
            "text/plain": [
              "array([{'', 's', 'a', 'k', 'y', 'u', 'w', 'n', 't', 'g', 'o'},\n",
              "       {'', 'a', 'k', 'y', 'i', 'n', 't', 'm', 'o'},\n",
              "       {'', 'c', 'a', 'k', 'e', 'y', 's', 'r', 'w', 'i', 't', 'm', 'o'},\n",
              "       {'', 'c', 'e', 's', 'r', 'n', ' ', 'l', 'w', 'i', 't', 'd', 'o'},\n",
              "       {'', 'c', 's', 'e', 'n', ' ', 'l', 'a', 'w', 'i', '-', 't', 'd', 'm', 'o'}],\n",
              "      dtype=object)"
            ]
          },
          "metadata": {
            "tags": []
          },
          "execution_count": 21
        }
      ]
    },
    {
      "cell_type": "code",
      "metadata": {
        "id": "1LIg4pLv4-ny"
      },
      "source": [
        "len_intersection_seq = list(map(len, intersection_seq))\n",
        "len_union_seq = list(map(len, union_seq))"
      ],
      "execution_count": null,
      "outputs": []
    },
    {
      "cell_type": "code",
      "metadata": {
        "colab": {
          "base_uri": "https://localhost:8080/"
        },
        "id": "JgGTCW3pn0AM",
        "outputId": "3238557f-2389-41d5-f0ad-902a95f68ef9"
      },
      "source": [
        "np.array(np.subtract(len_intersection_seq, 1),  dtype=float) / np.array(np.subtract(len_union_seq, 1),  \n",
        "                                                                        dtype=float) "
      ],
      "execution_count": null,
      "outputs": [
        {
          "output_type": "execute_result",
          "data": {
            "text/plain": [
              "array([0.4       , 0.375     , 0.        , 0.41666667, 0.5       ,\n",
              "       0.30769231, 0.36363636, 0.30769231, 1.        , 0.66666667,\n",
              "       0.54545455, 0.63636364, 0.38461538, 0.6       , 0.3       ,\n",
              "       0.26666667, 0.46153846, 0.25      , 0.11111111, 0.375     ,\n",
              "       0.375     , 0.4       , 1.        , 0.75      , 0.5       ,\n",
              "       0.21428571, 0.27272727, 0.28571429, 0.33333333, 0.11111111,\n",
              "       0.3       , 0.33333333, 0.30769231, 0.30769231, 0.33333333,\n",
              "       0.2       , 0.375     , 0.1       , 0.16666667, 0.33333333,\n",
              "       0.44444444, 0.375     , 0.375     , 0.2       , 0.375     ,\n",
              "       0.25      , 0.16666667, 0.25      , 0.375     , 0.2       ,\n",
              "       0.4       , 0.22222222, 0.25      , 0.22222222, 0.2       ,\n",
              "       0.25      , 0.16666667, 0.4       , 0.27272727, 0.36363636,\n",
              "       0.5       , 0.54545455, 0.27272727, 0.14285714, 1.        ,\n",
              "       1.        , 1.        , 0.30769231, 0.30769231, 0.26666667,\n",
              "       0.5       , 0.21428571, 0.36363636, 0.66666667, 0.36363636,\n",
              "       0.5       , 0.57142857, 0.57142857, 0.33333333, 0.36363636,\n",
              "       0.21428571, 0.4       , 0.23076923, 0.33333333, 0.71428571,\n",
              "       0.55555556, 0.55555556, 0.71428571, 0.5       , 0.45454545,\n",
              "       0.23076923, 0.33333333, 0.72727273, 0.54545455, 0.5       ,\n",
              "       0.38461538, 0.38461538, 0.44444444, 1.        , 0.66666667,\n",
              "       0.42857143, 0.27272727, 0.8       , 0.53846154, 1.        ,\n",
              "       0.6       , 0.5       , 0.53846154, 0.5       , 0.25      ,\n",
              "       0.33333333, 0.18181818, 0.14285714, 0.42857143, 0.33333333,\n",
              "       0.3       , 1.        , 0.3       , 0.27272727, 1.        ,\n",
              "       0.45454545, 0.6       , 0.33333333, 0.42857143, 0.16666667,\n",
              "       0.25      , 0.5       ])"
            ]
          },
          "metadata": {
            "tags": []
          },
          "execution_count": 23
        }
      ]
    },
    {
      "cell_type": "code",
      "metadata": {
        "colab": {
          "base_uri": "https://localhost:8080/"
        },
        "id": "1Wlj6wi3RXVr",
        "outputId": "685ae523-487b-4f82-c232-04ac120be89f"
      },
      "source": [
        "len_intersection_seq[8], len_union_seq[8]"
      ],
      "execution_count": null,
      "outputs": [
        {
          "output_type": "execute_result",
          "data": {
            "text/plain": [
              "(9, 9)"
            ]
          },
          "metadata": {
            "tags": []
          },
          "execution_count": 24
        }
      ]
    },
    {
      "cell_type": "code",
      "metadata": {
        "colab": {
          "base_uri": "https://localhost:8080/",
          "height": 77
        },
        "id": "xCfMZSCkUL1s",
        "outputId": "170619ef-438b-438f-9c7e-25e9e82d0dbf"
      },
      "source": [
        "seqs.loc[8:8]"
      ],
      "execution_count": null,
      "outputs": [
        {
          "output_type": "execute_result",
          "data": {
            "text/html": [
              "<div>\n",
              "<style scoped>\n",
              "    .dataframe tbody tr th:only-of-type {\n",
              "        vertical-align: middle;\n",
              "    }\n",
              "\n",
              "    .dataframe tbody tr th {\n",
              "        vertical-align: top;\n",
              "    }\n",
              "\n",
              "    .dataframe thead th {\n",
              "        text-align: right;\n",
              "    }\n",
              "</style>\n",
              "<table border=\"1\" class=\"dataframe\">\n",
              "  <thead>\n",
              "    <tr style=\"text-align: right;\">\n",
              "      <th></th>\n",
              "      <th>0</th>\n",
              "      <th>1</th>\n",
              "    </tr>\n",
              "  </thead>\n",
              "  <tbody>\n",
              "    <tr>\n",
              "      <th>8</th>\n",
              "      <td>{, w, i, n, l, t, g, m, o}</td>\n",
              "      <td>{, w, i, n, l, t, g, m, o}</td>\n",
              "    </tr>\n",
              "  </tbody>\n",
              "</table>\n",
              "</div>"
            ],
            "text/plain": [
              "                            0                           1\n",
              "8  {, w, i, n, l, t, g, m, o}  {, w, i, n, l, t, g, m, o}"
            ]
          },
          "metadata": {
            "tags": []
          },
          "execution_count": 25
        }
      ]
    },
    {
      "cell_type": "code",
      "metadata": {
        "colab": {
          "base_uri": "https://localhost:8080/",
          "height": 107
        },
        "id": "2uOlPRYqUdA6",
        "outputId": "a116d8f0-03b7-4e3b-86f6-01e6b87f6597"
      },
      "source": [
        "df.loc[8:9]"
      ],
      "execution_count": null,
      "outputs": [
        {
          "output_type": "execute_result",
          "data": {
            "text/html": [
              "<div>\n",
              "<style scoped>\n",
              "    .dataframe tbody tr th:only-of-type {\n",
              "        vertical-align: middle;\n",
              "    }\n",
              "\n",
              "    .dataframe tbody tr th {\n",
              "        vertical-align: top;\n",
              "    }\n",
              "\n",
              "    .dataframe thead th {\n",
              "        text-align: right;\n",
              "    }\n",
              "</style>\n",
              "<table border=\"1\" class=\"dataframe\">\n",
              "  <thead>\n",
              "    <tr style=\"text-align: right;\">\n",
              "      <th></th>\n",
              "      <th>LatD</th>\n",
              "      <th>LatM</th>\n",
              "      <th>LatS</th>\n",
              "      <th>NS</th>\n",
              "      <th>LonD</th>\n",
              "      <th>LonM</th>\n",
              "      <th>LonS</th>\n",
              "      <th>EW</th>\n",
              "      <th>City</th>\n",
              "      <th>State</th>\n",
              "    </tr>\n",
              "  </thead>\n",
              "  <tbody>\n",
              "    <tr>\n",
              "      <th>8</th>\n",
              "      <td>34</td>\n",
              "      <td>14</td>\n",
              "      <td>24</td>\n",
              "      <td>N</td>\n",
              "      <td>77</td>\n",
              "      <td>55</td>\n",
              "      <td>11</td>\n",
              "      <td>W</td>\n",
              "      <td>wilmington</td>\n",
              "      <td>NC</td>\n",
              "    </tr>\n",
              "    <tr>\n",
              "      <th>9</th>\n",
              "      <td>39</td>\n",
              "      <td>45</td>\n",
              "      <td>0</td>\n",
              "      <td>N</td>\n",
              "      <td>75</td>\n",
              "      <td>33</td>\n",
              "      <td>0</td>\n",
              "      <td>W</td>\n",
              "      <td>wilmington</td>\n",
              "      <td>DE</td>\n",
              "    </tr>\n",
              "  </tbody>\n",
              "</table>\n",
              "</div>"
            ],
            "text/plain": [
              "   LatD  LatM  LatS NS  LonD  LonM  LonS EW        City State\n",
              "8    34    14    24  N    77    55    11  W  wilmington    NC\n",
              "9    39    45     0  N    75    33     0  W  wilmington    DE"
            ]
          },
          "metadata": {
            "tags": []
          },
          "execution_count": 26
        }
      ]
    },
    {
      "cell_type": "code",
      "metadata": {
        "colab": {
          "base_uri": "https://localhost:8080/"
        },
        "id": "i6Ipf88LU3gC",
        "outputId": "7b91313c-33cf-424f-9e2b-7335b0402c88"
      },
      "source": [
        "slice1.tail(5), slice2.tail(5), seqs.tail(4)"
      ],
      "execution_count": null,
      "outputs": [
        {
          "output_type": "execute_result",
          "data": {
            "text/plain": [
              "(    0  1  2  3  4  5  6  7  8  9  10 11 12 13 14 15 16 17 18 19\n",
              " 122     r  h  i  n  e  l  a  n  d  e  r                        \n",
              " 123     r  e  n  o                                             \n",
              " 124     r  e  g  i  n  a                                       \n",
              " 125     r  e  d     b  l  u  f  f                              \n",
              " 126     r  e  a  d  i  n  g                                    ,\n",
              "     0  1  2  3  4  5  6  7  8  9  10 11 12 13 14 15 16 17 18 19\n",
              " 123     r  e  n  o                                             \n",
              " 124     r  e  g  i  n  a                                       \n",
              " 125     r  e  d     b  l  u  f  f                              \n",
              " 126     r  e  a  d  i  n  g                                    \n",
              " 127     r  a  v  e  n  n  a                                    ,\n",
              "                               0                           1\n",
              " 123              {, e, r, n, o}        {, e, a, r, i, n, g}\n",
              " 124        {, e, a, r, i, n, g}  {, e, r, u,  , l, d, b, f}\n",
              " 125  {, e, r, u,  , l, d, b, f}     {, e, a, r, i, n, d, g}\n",
              " 126     {, e, a, r, i, n, d, g}           {, v, a, e, r, n})"
            ]
          },
          "metadata": {
            "tags": []
          },
          "execution_count": 27
        }
      ]
    },
    {
      "cell_type": "code",
      "metadata": {
        "id": "HBu8iaai2Db4"
      },
      "source": [
        "s = {'e', 'r', 'n', 'o'}"
      ],
      "execution_count": null,
      "outputs": []
    },
    {
      "cell_type": "code",
      "metadata": {
        "id": "6TzLYCkq-IQd"
      },
      "source": [
        "f = lambda x:ord(x) - 97"
      ],
      "execution_count": null,
      "outputs": []
    },
    {
      "cell_type": "code",
      "metadata": {
        "id": "GDGg2KHD2_Vk"
      },
      "source": [
        "s_ = frozenset(sorted(list(map(f, s))))"
      ],
      "execution_count": null,
      "outputs": []
    },
    {
      "cell_type": "code",
      "metadata": {
        "colab": {
          "base_uri": "https://localhost:8080/"
        },
        "id": "13LibLMw2GmC",
        "outputId": "d3ee7c98-becd-4501-b51a-09d07bfb757a"
      },
      "source": [
        "hash(s_)"
      ],
      "execution_count": null,
      "outputs": [
        {
          "output_type": "execute_result",
          "data": {
            "text/plain": [
              "-3319252525346066722"
            ]
          },
          "metadata": {
            "tags": []
          },
          "execution_count": 92
        }
      ]
    },
    {
      "cell_type": "code",
      "metadata": {
        "id": "_4wD7HXd7XbR"
      },
      "source": [
        "seed = s.encode()"
      ],
      "execution_count": null,
      "outputs": []
    },
    {
      "cell_type": "code",
      "metadata": {
        "id": "1dBHg2S001cY"
      },
      "source": [
        ""
      ],
      "execution_count": null,
      "outputs": []
    },
    {
      "cell_type": "code",
      "metadata": {
        "colab": {
          "base_uri": "https://localhost:8080/"
        },
        "id": "YaOUgNyB8Njs",
        "outputId": "90449b5f-cb4a-41a5-9bd8-51df7ddb485e"
      },
      "source": [
        "hash('erno')"
      ],
      "execution_count": null,
      "outputs": [
        {
          "output_type": "execute_result",
          "data": {
            "text/plain": [
              "710175682857287898"
            ]
          },
          "metadata": {
            "tags": []
          },
          "execution_count": 71
        }
      ]
    }
  ]
}